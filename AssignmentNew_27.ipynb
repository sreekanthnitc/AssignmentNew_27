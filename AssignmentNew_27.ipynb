{
 "cells": [
  {
   "cell_type": "markdown",
   "metadata": {},
   "source": [
    "This exercise is to predict how many points NBA players scored in the 2013-2014 season using K-nearest neighbors algorithm.\n",
    "The data is available at below location.\n",
    "* https://www.dropbox.com/s/b3nv38jjo5dxcl6/nba_2013.csv?dl=0"
   ]
  },
  {
   "cell_type": "markdown",
   "metadata": {},
   "source": [
    "## Load Libraries"
   ]
  },
  {
   "cell_type": "code",
   "execution_count": 1,
   "metadata": {},
   "outputs": [],
   "source": [
    "import numpy as np\n",
    "import pandas as pd\n",
    "import scipy.stats as stats\n",
    "import matplotlib.pyplot as plt\n",
    "import seaborn as sns\n",
    "\n",
    "%matplotlib inline"
   ]
  },
  {
   "cell_type": "code",
   "execution_count": 2,
   "metadata": {},
   "outputs": [],
   "source": [
    "from sklearn.model_selection import train_test_split\n",
    "from sklearn.neighbors import KNeighborsRegressor\n",
    "from sklearn.model_selection import cross_val_score\n",
    "from sklearn import preprocessing\n",
    "from sklearn.preprocessing import Imputer\n",
    "from sklearn.metrics import accuracy_score"
   ]
  },
  {
   "cell_type": "markdown",
   "metadata": {},
   "source": [
    "## Load Dataset"
   ]
  },
  {
   "cell_type": "code",
   "execution_count": 3,
   "metadata": {},
   "outputs": [],
   "source": [
    "#read from the csv file and return a Pandas DataFrame.\n",
    "pd.options.display.float_format = '{:,.2f}'.format\n",
    "    \n",
    "with open(\"nba_2013.csv\", 'r') as csvfile:\n",
    "    nba = pd.read_csv(csvfile)"
   ]
  },
  {
   "cell_type": "markdown",
   "metadata": {},
   "source": [
    "## Analyze the dataset"
   ]
  },
  {
   "cell_type": "code",
   "execution_count": 4,
   "metadata": {},
   "outputs": [
    {
     "name": "stdout",
     "output_type": "stream",
     "text": [
      " [NBA Data] Length : 481 \n",
      " [NBA Data] shape : (481, 31) \n",
      " [NBA Data] : \n",
      "                     player pos  age bref_team_id   g  gs    mp   fg   fga  \\\n",
      "0               Quincy Acy  SF   23          TOT  63   0   847   66   141   \n",
      "1             Steven Adams   C   20          OKC  81  20  1197   93   185   \n",
      "2              Jeff Adrien  PF   27          TOT  53  12   961  143   275   \n",
      "3            Arron Afflalo  SG   28          ORL  73  73  2552  464  1011   \n",
      "4            Alexis Ajinca   C   25          NOP  56  30   951  136   249   \n",
      "5             Cole Aldrich   C   25          NYK  46   2   330   33    61   \n",
      "6        LaMarcus Aldridge  PF   28          POR  69  69  2498  652  1423   \n",
      "7              Lavoy Allen  PF   24          TOT  65   2  1072  134   300   \n",
      "8                Ray Allen  SG   38          MIA  73   9  1936  240   543   \n",
      "9               Tony Allen  SG   32          MEM  55  28  1278  204   413   \n",
      "10         Al-Farouq Aminu  SF   23          NOP  80  65  2045  234   494   \n",
      "11          Louis Amundson  PF   31          TOT  19   0   185   16    32   \n",
      "12          Chris Andersen   C   35          MIA  72   0  1396  177   275   \n",
      "13           Alan Anderson  SF   31          BRK  78  26  1773  194   485   \n",
      "14          James Anderson  SG   24          PHI  80  62  2309  309   717   \n",
      "15           Ryan Anderson  PF   25          NOP  22  14   795  155   354   \n",
      "16   Giannis Antetokounmpo  SF   19          MIL  77  23  1897  173   418   \n",
      "17         Carmelo Anthony  PF   29          NYK  77  77  2982  743  1643   \n",
      "18            Joel Anthony   C   31          TOT  33   0   186   12    32   \n",
      "19              Pero Antic  PF   31          ATL  50  26   925  123   294   \n",
      "20            Trevor Ariza  SF   28          WAS  77  77  2723  389   853   \n",
      "21        Hilton Armstrong   C   29          GSW  15   1    97    9    19   \n",
      "22          Darrell Arthur  SF   25          DEN  68   1  1161  162   410   \n",
      "23               Omer Asik   C   27          HOU  48  19   968  101   190   \n",
      "24           D.J. Augustin  PG   26          TOT  71   9  1939  298   718   \n",
      "25            Gustavo Ayon   C   28          ATL  26  14   429   52   102   \n",
      "26              Jeff Ayres  PF   26          SAS  73  10   952  101   174   \n",
      "27              Chris Babb  SG   23          BOS  14   0   132    8    30   \n",
      "28            Luke Babbitt  PF   24          NOP  27   2   473   60   154   \n",
      "29         Leandro Barbosa  PG   31          PHO  20   0   368   56   131   \n",
      "..                     ...  ..  ...          ...  ..  ..   ...  ...   ...   \n",
      "451              John Wall  PG   23          WAS  82  82  2980  579  1337   \n",
      "452         Gerald Wallace  SF   31          BOS  58  16  1416  116   230   \n",
      "453            Casper Ware  PG   24          PHI   9   0   116   18    42   \n",
      "454            C.J. Watson  PG   29          IND  63   5  1193  146   334   \n",
      "455            Earl Watson  PG   34          POR  24   0   161    3    11   \n",
      "456           Maalik Wayns  PG   22          LAC   2   0     9    1     2   \n",
      "457        Martell Webster  SF   27          WAS  78  13  2157  254   587   \n",
      "458             David West  PF   33          IND  80  80  2472  458   939   \n",
      "459      Russell Westbrook  PG   25          OKC  46  46  1412  346   791   \n",
      "460             D.J. White  PF   27          CHA   2   0    10    0     1   \n",
      "461            Royce White  PF   22          SAC   3   0     9    0     1   \n",
      "462         Deron Williams  PG   29          BRK  64  58  2059  322   716   \n",
      "463       Derrick Williams  SF   22          TOT  78  15  1820  206   482   \n",
      "464        Elliot Williams  SG   24          PHI  67   2  1157  140   337   \n",
      "465         Louis Williams  PG   27          ATL  60   7  1445  197   493   \n",
      "466        Marvin Williams  PF   27          UTA  66  50  1674  231   526   \n",
      "467            Mo Williams  PG   31          POR  74   0  1834  280   672   \n",
      "468        Reggie Williams  SF   27          OKC   3   0    17    5     9   \n",
      "469        Shawne Williams  PF   27          LAL  36  13   751   73   192   \n",
      "470            Jeff Withey   C   23          NOP  58   4   684   69   129   \n",
      "471           Nate Wolters  PG   22          MIL  58  31  1309  170   389   \n",
      "472      Metta World Peace  SF   34          NYK  29   1   388   56   141   \n",
      "473         Brandan Wright   C   26          DAL  58   0  1077  224   331   \n",
      "474           Chris Wright  SF   25          MIL   8   0   126   21    35   \n",
      "475          Dorell Wright  SF   28          POR  68  13   984  111   297   \n",
      "476            Tony Wroten  SG   20          PHI  72  16  1765  345   808   \n",
      "477             Nick Young  SG   28          LAL  64   9  1810  387   889   \n",
      "478         Thaddeus Young  PF   25          PHI  79  78  2718  582  1283   \n",
      "479            Cody Zeller   C   21          CHA  82   3  1416  172   404   \n",
      "480           Tyler Zeller   C   24          CLE  70   9  1049  156   290   \n",
      "\n",
      "     fg.     ...      drb  trb  ast  stl  blk  tov   pf   pts     season  \\\n",
      "0   0.47     ...      144  216   28   23   26   30  122   171  2013-2014   \n",
      "1   0.50     ...      190  332   43   40   57   71  203   265  2013-2014   \n",
      "2   0.52     ...      204  306   38   24   36   39  108   362  2013-2014   \n",
      "3   0.46     ...      230  262  248   35    3  146  136  1330  2013-2014   \n",
      "4   0.55     ...      183  277   40   23   46   63  187   328  2013-2014   \n",
      "5   0.54     ...       92  129   14    8   30   18   40    92  2013-2014   \n",
      "6   0.46     ...      599  765  178   63   68  123  147  1603  2013-2014   \n",
      "7   0.45     ...      192  311   71   24   33   44  126   303  2013-2014   \n",
      "8   0.44     ...      182  205  143   54    8   84  115   701  2013-2014   \n",
      "9   0.49     ...      129  208   94   90   19   90  121   495  2013-2014   \n",
      "10  0.47     ...      367  496  114   82   38   88  147   572  2013-2014   \n",
      "11  0.50     ...       27   55    6    9   11   14   49    38  2013-2014   \n",
      "12  0.64     ...      250  379   19   32   97   53  162   477  2013-2014   \n",
      "13  0.40     ...      135  175   81   48   11   62  147   564  2013-2014   \n",
      "14  0.43     ...      241  300  149   74   28  106  154   810  2013-2014   \n",
      "15  0.44     ...       76  142   17   10    7   20   47   436  2013-2014   \n",
      "16  0.41     ...      261  339  150   60   61  122  173   525  2013-2014   \n",
      "17  0.45     ...      477  622  242   95   51  198  224  2112  2013-2014   \n",
      "18  0.38     ...       23   38    2    3   12    3   17    28  2013-2014   \n",
      "19  0.42     ...      152  209   58   19   12   55  126   352  2013-2014   \n",
      "20  0.46     ...      376  475  191  126   20  132  179  1107  2013-2014   \n",
      "21  0.47     ...       28   47    5    4    4    6   11    25  2013-2014   \n",
      "22  0.40     ...      158  210   61   39   47   58  185   401  2013-2014   \n",
      "23  0.53     ...      277  378   25   14   37   59   92   280  2013-2014   \n",
      "24  0.41     ...      115  130  313   53    3  125  147   930  2013-2014   \n",
      "25  0.51     ...       83  125   28   25   10   29   47   112  2013-2014   \n",
      "26  0.58     ...      169  258   60   13   25   63  146   240  2013-2014   \n",
      "27  0.27     ...       13   17    3    6    0    3   13    22  2013-2014   \n",
      "28  0.39     ...       70   88   29    7   11   15   52   170  2013-2014   \n",
      "29  0.43     ...       32   37   32    7    4   19   30   150  2013-2014   \n",
      "..   ...     ...      ...  ...  ...  ...  ...  ...  ...   ...        ...   \n",
      "451 0.43     ...      295  333  721  149   40  295  219  1583  2013-2014   \n",
      "452 0.50     ...      176  212  143   73   14   97   79   298  2013-2014   \n",
      "453 0.43     ...        9    9   10    8    0    5   11    48  2013-2014   \n",
      "454 0.44     ...       82  101  107   60    8   60   66   414  2013-2014   \n",
      "455 0.27     ...       10   15   28    5    1   17   33    12  2013-2014   \n",
      "456 0.50     ...        2    2    2    2    0    0    4     2  2013-2014   \n",
      "457 0.43     ...      184  222   97   41   15   58  150   759  2013-2014   \n",
      "458 0.49     ...      422  542  223   61   74  133  186  1118  2013-2014   \n",
      "459 0.44     ...      208  263  319   88    7  177  104  1002  2013-2014   \n",
      "460 0.00     ...        2    2    0    1    0    0    1     0  2013-2014   \n",
      "461 0.00     ...        0    0    0    0    0    0    2     0  2013-2014   \n",
      "462 0.45     ...      153  168  392   93   13  143  148   915  2013-2014   \n",
      "463 0.43     ...      252  323   56   48   20   76  114   624  2013-2014   \n",
      "464 0.41     ...      100  130   72   35    3   68  126   404  2013-2014   \n",
      "465 0.40     ...      114  124  210   45    4   92   65   625  2013-2014   \n",
      "466 0.44     ...      252  334   78   54   31   53  151   603  2013-2014   \n",
      "467 0.42     ...      111  153  321   55   10  149  197   721  2013-2014   \n",
      "468 0.56     ...        0    0    1    1    0    2    1    11  2013-2014   \n",
      "469 0.38     ...      142  167   30   19   30   21   93   202  2013-2014   \n",
      "470 0.54     ...      101  150   26   15   50   20   73   190  2013-2014   \n",
      "471 0.44     ...      116  149  187   35   15   57   67   417  2013-2014   \n",
      "472 0.40     ...       41   59   17   24    8   19   44   139  2013-2014   \n",
      "473 0.68     ...      142  244   31   32   55   35   94   525  2013-2014   \n",
      "474 0.60     ...       10   20    5    7    5    5   17    48  2013-2014   \n",
      "475 0.37     ...      162  191   64   23   16   39   62   343  2013-2014   \n",
      "476 0.43     ...      159  228  217   78   16  204  151   939  2013-2014   \n",
      "477 0.43     ...      137  166   95   46   12   95  156  1144  2013-2014   \n",
      "478 0.45     ...      310  476  182  167   36  165  213  1417  2013-2014   \n",
      "479 0.43     ...      235  353   92   40   41   87  170   490  2013-2014   \n",
      "480 0.54     ...      179  282   36   18   38   60  137   399  2013-2014   \n",
      "\n",
      "     season_end  \n",
      "0          2013  \n",
      "1          2013  \n",
      "2          2013  \n",
      "3          2013  \n",
      "4          2013  \n",
      "5          2013  \n",
      "6          2013  \n",
      "7          2013  \n",
      "8          2013  \n",
      "9          2013  \n",
      "10         2013  \n",
      "11         2013  \n",
      "12         2013  \n",
      "13         2013  \n",
      "14         2013  \n",
      "15         2013  \n",
      "16         2013  \n",
      "17         2013  \n",
      "18         2013  \n",
      "19         2013  \n",
      "20         2013  \n",
      "21         2013  \n",
      "22         2013  \n",
      "23         2013  \n",
      "24         2013  \n",
      "25         2013  \n",
      "26         2013  \n",
      "27         2013  \n",
      "28         2013  \n",
      "29         2013  \n",
      "..          ...  \n",
      "451        2013  \n",
      "452        2013  \n",
      "453        2013  \n",
      "454        2013  \n",
      "455        2013  \n",
      "456        2013  \n",
      "457        2013  \n",
      "458        2013  \n",
      "459        2013  \n",
      "460        2013  \n",
      "461        2013  \n",
      "462        2013  \n",
      "463        2013  \n",
      "464        2013  \n",
      "465        2013  \n",
      "466        2013  \n",
      "467        2013  \n",
      "468        2013  \n",
      "469        2013  \n",
      "470        2013  \n",
      "471        2013  \n",
      "472        2013  \n",
      "473        2013  \n",
      "474        2013  \n",
      "475        2013  \n",
      "476        2013  \n",
      "477        2013  \n",
      "478        2013  \n",
      "479        2013  \n",
      "480        2013  \n",
      "\n",
      "[481 rows x 31 columns]\n"
     ]
    }
   ],
   "source": [
    "print(\" [NBA Data] Length : {} \".format(len(nba)))\n",
    "print(\" [NBA Data] shape : {} \".format(nba.shape)) \n",
    "print(\" [NBA Data] : \\n\", str(nba))"
   ]
  },
  {
   "cell_type": "code",
   "execution_count": 5,
   "metadata": {},
   "outputs": [
    {
     "name": "stdout",
     "output_type": "stream",
     "text": [
      "[NBA Data] Column names \n",
      "\n",
      "['player' 'pos' 'age' 'bref_team_id' 'g' 'gs' 'mp' 'fg' 'fga' 'fg.' 'x3p'\n",
      " 'x3pa' 'x3p.' 'x2p' 'x2pa' 'x2p.' 'efg.' 'ft' 'fta' 'ft.' 'orb' 'drb'\n",
      " 'trb' 'ast' 'stl' 'blk' 'tov' 'pf' 'pts' 'season' 'season_end']\n"
     ]
    }
   ],
   "source": [
    "print(\"[NBA Data] Column names \\n\")\n",
    "print(nba.columns.values)"
   ]
  },
  {
   "cell_type": "code",
   "execution_count": 6,
   "metadata": {},
   "outputs": [
    {
     "name": "stdout",
     "output_type": "stream",
     "text": [
      "          player pos  age bref_team_id   g  gs    mp   fg   fga  fg.  \\\n",
      "0     Quincy Acy  SF   23          TOT  63   0   847   66   141 0.47   \n",
      "1   Steven Adams   C   20          OKC  81  20  1197   93   185 0.50   \n",
      "2    Jeff Adrien  PF   27          TOT  53  12   961  143   275 0.52   \n",
      "3  Arron Afflalo  SG   28          ORL  73  73  2552  464  1011 0.46   \n",
      "4  Alexis Ajinca   C   25          NOP  56  30   951  136   249 0.55   \n",
      "\n",
      "      ...      drb  trb  ast  stl  blk  tov   pf   pts     season  season_end  \n",
      "0     ...      144  216   28   23   26   30  122   171  2013-2014        2013  \n",
      "1     ...      190  332   43   40   57   71  203   265  2013-2014        2013  \n",
      "2     ...      204  306   38   24   36   39  108   362  2013-2014        2013  \n",
      "3     ...      230  262  248   35    3  146  136  1330  2013-2014        2013  \n",
      "4     ...      183  277   40   23   46   63  187   328  2013-2014        2013  \n",
      "\n",
      "[5 rows x 31 columns]\n"
     ]
    }
   ],
   "source": [
    "print(nba.head())"
   ]
  },
  {
   "cell_type": "code",
   "execution_count": 7,
   "metadata": {},
   "outputs": [
    {
     "name": "stdout",
     "output_type": "stream",
     "text": [
      "player           object\n",
      "pos              object\n",
      "age               int64\n",
      "bref_team_id     object\n",
      "g                 int64\n",
      "gs                int64\n",
      "mp                int64\n",
      "fg                int64\n",
      "fga               int64\n",
      "fg.             float64\n",
      "x3p               int64\n",
      "x3pa              int64\n",
      "x3p.            float64\n",
      "x2p               int64\n",
      "x2pa              int64\n",
      "x2p.            float64\n",
      "efg.            float64\n",
      "ft                int64\n",
      "fta               int64\n",
      "ft.             float64\n",
      "orb               int64\n",
      "drb               int64\n",
      "trb               int64\n",
      "ast               int64\n",
      "stl               int64\n",
      "blk               int64\n",
      "tov               int64\n",
      "pf                int64\n",
      "pts               int64\n",
      "season           object\n",
      "season_end        int64\n",
      "dtype: object\n"
     ]
    }
   ],
   "source": [
    "print(nba.dtypes)"
   ]
  },
  {
   "cell_type": "markdown",
   "metadata": {},
   "source": [
    "## Split the data into as Features and target."
   ]
  },
  {
   "cell_type": "code",
   "execution_count": 8,
   "metadata": {},
   "outputs": [],
   "source": [
    "# The columns that we will be making predictions with.\n",
    "X_columns = ['age', 'g', 'gs', 'mp', 'fg', 'fga', 'fg.', 'x3p', 'x3pa', 'x3p.', 'x2p', 'x2pa', 'x2p.', 'efg.', 'ft', 'fta', 'ft.', 'orb', 'drb', 'trb', 'ast', 'stl', 'blk', 'tov', 'pf']\n",
    "\n",
    "# The column that we want to predict.\n",
    "y_column = [\"pts\"]"
   ]
  },
  {
   "cell_type": "code",
   "execution_count": 9,
   "metadata": {},
   "outputs": [],
   "source": [
    "X = nba[X_columns]\n",
    "y = nba[y_column]"
   ]
  },
  {
   "cell_type": "markdown",
   "metadata": {},
   "source": [
    "## Explore the Input Data."
   ]
  },
  {
   "cell_type": "code",
   "execution_count": 10,
   "metadata": {},
   "outputs": [
    {
     "name": "stdout",
     "output_type": "stream",
     "text": [
      "age       int64\n",
      "g         int64\n",
      "gs        int64\n",
      "mp        int64\n",
      "fg        int64\n",
      "fga       int64\n",
      "fg.     float64\n",
      "x3p       int64\n",
      "x3pa      int64\n",
      "x3p.    float64\n",
      "x2p       int64\n",
      "x2pa      int64\n",
      "x2p.    float64\n",
      "efg.    float64\n",
      "ft        int64\n",
      "fta       int64\n",
      "ft.     float64\n",
      "orb       int64\n",
      "drb       int64\n",
      "trb       int64\n",
      "ast       int64\n",
      "stl       int64\n",
      "blk       int64\n",
      "tov       int64\n",
      "pf        int64\n",
      "dtype: object\n"
     ]
    }
   ],
   "source": [
    "print(X.dtypes)"
   ]
  },
  {
   "cell_type": "code",
   "execution_count": 11,
   "metadata": {},
   "outputs": [
    {
     "name": "stdout",
     "output_type": "stream",
     "text": [
      "         age      g     gs       mp     fg      fga    fg.    x3p   x3pa  \\\n",
      "count 481.00 481.00 481.00   481.00 481.00   481.00 479.00 481.00 481.00   \n",
      "mean   26.51  53.25  25.57 1,237.39 192.88   424.46   0.44  39.61 110.13   \n",
      "std     4.20  25.32  29.66   897.26 171.83   368.85   0.10  50.86 132.75   \n",
      "min    19.00   1.00   0.00     1.00   0.00     0.00   0.00   0.00   0.00   \n",
      "25%    23.00  32.00   0.00   388.00  47.00   110.00   0.40   0.00   3.00   \n",
      "50%    26.00  61.00  10.00 1,141.00 146.00   332.00   0.44  16.00  48.00   \n",
      "75%    29.00  76.00  54.00 2,016.00 307.00   672.00   0.48  68.00 193.00   \n",
      "max    39.00  83.00  82.00 3,122.00 849.00 1,688.00   1.00 261.00 615.00   \n",
      "\n",
      "        x3p.  ...      fta    ft.    orb    drb      trb    ast    stl    blk  \\\n",
      "count 414.00  ...   481.00 461.00 481.00 481.00   481.00 481.00 481.00 481.00   \n",
      "mean    0.29  ...   120.64   0.72  55.81 162.82   218.63 112.54  39.28  24.10   \n",
      "std     0.16  ...   131.24   0.16  62.10 145.35   200.36 131.02  34.78  30.88   \n",
      "min     0.00  ...     0.00   0.00   0.00   0.00     0.00   0.00   0.00   0.00   \n",
      "25%     0.23  ...    22.00   0.65  12.00  43.00    55.00  20.00   9.00   4.00   \n",
      "50%     0.33  ...    73.00   0.75  35.00 135.00   168.00  65.00  32.00  14.00   \n",
      "75%     0.38  ...   179.00   0.82  73.00 230.00   310.00 152.00  60.00  32.00   \n",
      "max     1.00  ...   805.00   1.00 440.00 783.00 1,114.00 721.00 191.00 219.00   \n",
      "\n",
      "         tov     pf  \n",
      "count 481.00 481.00  \n",
      "mean   71.86 105.87  \n",
      "std    62.70  71.21  \n",
      "min     0.00   0.00  \n",
      "25%    21.00  44.00  \n",
      "50%    58.00 104.00  \n",
      "75%   108.00 158.00  \n",
      "max   295.00 273.00  \n",
      "\n",
      "[8 rows x 25 columns]\n"
     ]
    }
   ],
   "source": [
    "print(X.describe())"
   ]
  },
  {
   "cell_type": "markdown",
   "metadata": {},
   "source": [
    "### Check the Correlation"
   ]
  },
  {
   "cell_type": "code",
   "execution_count": 12,
   "metadata": {},
   "outputs": [
    {
     "name": "stdout",
     "output_type": "stream",
     "text": [
      "       age     g   gs   mp    fg   fga   fg.   x3p  x3pa  x3p.  ...    fta  \\\n",
      "age   1.00 -0.01 0.03 0.01 -0.01 -0.02  0.03  0.05  0.03  0.01  ...  -0.06   \n",
      "g    -0.01  1.00 0.61 0.86  0.74  0.75  0.32  0.52  0.54  0.10  ...   0.62   \n",
      "gs    0.03  0.61 1.00 0.86  0.82  0.81  0.23  0.50  0.52  0.06  ...   0.72   \n",
      "mp    0.01  0.86 0.86 1.00  0.93  0.94  0.27  0.65  0.67  0.14  ...   0.81   \n",
      "fg   -0.01  0.74 0.82 0.93  1.00  0.99  0.28  0.60  0.61  0.11  ...   0.90   \n",
      "fga  -0.02  0.75 0.81 0.94  0.99  1.00  0.21  0.66  0.69  0.15  ...   0.88   \n",
      "fg.   0.03  0.32 0.23 0.27  0.28  0.21  1.00 -0.03 -0.04 -0.04  ...   0.26   \n",
      "x3p   0.05  0.52 0.50 0.65  0.60  0.66 -0.03  1.00  0.99  0.46  ...   0.44   \n",
      "x3pa  0.03  0.54 0.52 0.67  0.61  0.69 -0.04  0.99  1.00  0.45  ...   0.47   \n",
      "x3p.  0.01  0.10 0.06 0.14  0.11  0.15 -0.04  0.46  0.45  1.00  ...   0.02   \n",
      "x2p  -0.03  0.68 0.79 0.86  0.96  0.92  0.33  0.35  0.37 -0.03  ...   0.89   \n",
      "x2pa -0.04  0.69 0.78 0.87  0.96  0.94  0.28  0.38  0.41 -0.01  ...   0.89   \n",
      "x2p.  0.01  0.28 0.21 0.24  0.24  0.19  0.88  0.04  0.04 -0.12  ...   0.21   \n",
      "efg.  0.07  0.35 0.23 0.30  0.28  0.24  0.91  0.22  0.20  0.30  ...   0.21   \n",
      "ft   -0.05  0.60 0.71 0.81  0.89  0.89  0.22  0.50  0.53  0.06  ...   0.99   \n",
      "fta  -0.06  0.62 0.72 0.81  0.90  0.88  0.26  0.44  0.47  0.02  ...   1.00   \n",
      "ft.   0.02  0.25 0.18 0.28  0.28  0.31 -0.01  0.37  0.37  0.29  ...   0.20   \n",
      "orb  -0.07  0.55 0.56 0.58  0.56  0.49  0.42 -0.07 -0.06 -0.31  ...   0.54   \n",
      "drb   0.01  0.71 0.77 0.82  0.82  0.77  0.38  0.28  0.29 -0.09  ...   0.76   \n",
      "trb  -0.01  0.68 0.74 0.77  0.77  0.71  0.40  0.18  0.19 -0.17  ...   0.72   \n",
      "ast   0.02  0.55 0.64 0.73  0.71  0.75  0.07  0.62  0.64  0.21  ...   0.67   \n",
      "stl  -0.03  0.71 0.74 0.85  0.79  0.80  0.19  0.59  0.62  0.15  ...   0.73   \n",
      "blk  -0.02  0.48 0.51 0.51  0.48  0.41  0.40 -0.04 -0.04 -0.19  ...   0.46   \n",
      "tov  -0.03  0.71 0.77 0.89  0.90  0.91  0.22  0.56  0.59  0.10  ...   0.88   \n",
      "pf   -0.03  0.87 0.73 0.88  0.80  0.79  0.36  0.45  0.46 -0.02  ...   0.70   \n",
      "\n",
      "       ft.   orb   drb   trb  ast   stl   blk   tov    pf  \n",
      "age   0.02 -0.07  0.01 -0.01 0.02 -0.03 -0.02 -0.03 -0.03  \n",
      "g     0.25  0.55  0.71  0.68 0.55  0.71  0.48  0.71  0.87  \n",
      "gs    0.18  0.56  0.77  0.74 0.64  0.74  0.51  0.77  0.73  \n",
      "mp    0.28  0.58  0.82  0.77 0.73  0.85  0.51  0.89  0.88  \n",
      "fg    0.28  0.56  0.82  0.77 0.71  0.79  0.48  0.90  0.80  \n",
      "fga   0.31  0.49  0.77  0.71 0.75  0.80  0.41  0.91  0.79  \n",
      "fg.  -0.01  0.42  0.38  0.40 0.07  0.19  0.40  0.22  0.36  \n",
      "x3p   0.37 -0.07  0.28  0.18 0.62  0.59 -0.04  0.56  0.45  \n",
      "x3pa  0.37 -0.06  0.29  0.19 0.64  0.62 -0.04  0.59  0.46  \n",
      "x3p.  0.29 -0.31 -0.09 -0.17 0.21  0.15 -0.19  0.10 -0.02  \n",
      "x2p   0.19  0.68  0.86  0.83 0.61  0.71  0.58  0.86  0.78  \n",
      "x2pa  0.22  0.64  0.84  0.80 0.65  0.73  0.54  0.88  0.78  \n",
      "x2p.  0.03  0.31  0.30  0.32 0.07  0.19  0.30  0.19  0.30  \n",
      "efg.  0.17  0.26  0.30  0.30 0.13  0.23  0.27  0.22  0.33  \n",
      "ft    0.27  0.46  0.70  0.65 0.70  0.72  0.38  0.87  0.66  \n",
      "fta   0.20  0.54  0.76  0.72 0.67  0.73  0.46  0.88  0.70  \n",
      "ft.   1.00 -0.05  0.09  0.05 0.28  0.22 -0.07  0.25  0.18  \n",
      "orb  -0.05  1.00  0.84  0.92 0.14  0.39  0.78  0.47  0.71  \n",
      "drb   0.09  0.84  1.00  0.99 0.45  0.63  0.74  0.74  0.82  \n",
      "trb   0.05  0.92  0.99  1.00 0.37  0.58  0.78  0.68  0.82  \n",
      "ast   0.28  0.14  0.45  0.37 1.00  0.77  0.10  0.86  0.54  \n",
      "stl   0.22  0.39  0.63  0.58 0.77  1.00  0.32  0.83  0.74  \n",
      "blk  -0.07  0.78  0.74  0.78 0.10  0.32  1.00  0.40  0.63  \n",
      "tov   0.25  0.47  0.74  0.68 0.86  0.83  0.40  1.00  0.78  \n",
      "pf    0.18  0.71  0.82  0.82 0.54  0.74  0.63  0.78  1.00  \n",
      "\n",
      "[25 rows x 25 columns]\n"
     ]
    }
   ],
   "source": [
    "print(X.corr())"
   ]
  },
  {
   "cell_type": "markdown",
   "metadata": {},
   "source": [
    "## Visulize the data."
   ]
  },
  {
   "cell_type": "code",
   "execution_count": 13,
   "metadata": {},
   "outputs": [
    {
     "data": {
      "text/plain": [
       "<matplotlib.axes._subplots.AxesSubplot at 0x24b74bb8a58>"
      ]
     },
     "execution_count": 13,
     "metadata": {},
     "output_type": "execute_result"
    },
    {
     "data": {
      "image/png": "[encoded data removed]",
      "text/plain": [
       "<Figure size 720x576 with 2 Axes>"
      ]
     },
     "metadata": {
      "needs_background": "light"
     },
     "output_type": "display_data"
    }
   ],
   "source": [
    "# correlation between attributes\n",
    "plt.figure(figsize=(10,8))\n",
    "sns.heatmap(X.corr())"
   ]
  },
  {
   "cell_type": "markdown",
   "metadata": {},
   "source": [
    "## Normalize the Data"
   ]
  },
  {
   "cell_type": "code",
   "execution_count": 14,
   "metadata": {},
   "outputs": [],
   "source": [
    "imp = Imputer(missing_values=\"NaN\", strategy='median', axis=0)\n",
    "X = imp.fit_transform(X)"
   ]
  },
  {
   "cell_type": "markdown",
   "metadata": {},
   "source": [
    "### Split the data into Train & Test"
   ]
  },
  {
   "cell_type": "code",
   "execution_count": 15,
   "metadata": {},
   "outputs": [
    {
     "name": "stderr",
     "output_type": "stream",
     "text": [
      "C:\\Users\\Sreekanth\\Anaconda3\\lib\\site-packages\\ipykernel_launcher.py:3: FutureWarning: Method .as_matrix will be removed in a future version. Use .values instead.\n",
      "  This is separate from the ipykernel package so we can avoid doing imports until\n",
      "C:\\Users\\Sreekanth\\Anaconda3\\lib\\site-packages\\ipykernel_launcher.py:4: FutureWarning: Method .as_matrix will be removed in a future version. Use .values instead.\n",
      "  after removing the cwd from sys.path.\n"
     ]
    }
   ],
   "source": [
    "X_train, X_test, y_train, y_test =  train_test_split(X, y,  train_size=0.75, test_size=0.25, random_state = 100) #75/25 data split\n",
    "\n",
    "y_train = y_train.as_matrix().ravel()\n",
    "y_test  = y_test.as_matrix().ravel()\n"
   ]
  },
  {
   "cell_type": "markdown",
   "metadata": {},
   "source": [
    "## Model Creation"
   ]
  },
  {
   "cell_type": "code",
   "execution_count": 16,
   "metadata": {},
   "outputs": [],
   "source": [
    "# Create the knn model.\n",
    "# Look at the five closest neighbors.\n",
    "knn = KNeighborsRegressor(n_neighbors=21)\n",
    "# Fit the model on the training data.\n",
    "knn.fit(X_train,y_train)\n",
    "# Make point predictions on the test set using the fit model.\n",
    "y_pred = knn.predict(X_test)"
   ]
  },
  {
   "cell_type": "code",
   "execution_count": 17,
   "metadata": {},
   "outputs": [
    {
     "data": {
      "text/plain": [
       "array([ 566.9047619 ,  448.85714286,  156.19047619,  117.23809524,\n",
       "         25.04761905,  185.66666667,   90.52380952,   77.57142857,\n",
       "          6.95238095,   24.        ,   57.14285714,  136.04761905,\n",
       "         89.38095238,   20.14285714,  449.42857143, 1106.04761905,\n",
       "        341.52380952,  637.38095238,  446.85714286,  643.9047619 ,\n",
       "         65.57142857, 1358.        , 1142.        ,  832.57142857,\n",
       "          6.23809524,  591.42857143, 1057.85714286,    6.23809524,\n",
       "        294.57142857,  185.95238095,  740.76190476,  320.66666667,\n",
       "        347.52380952, 1043.19047619,  235.66666667,  395.85714286,\n",
       "        791.42857143,   32.23809524,  115.14285714,  687.14285714,\n",
       "        526.66666667,  182.61904762,  626.14285714,  214.66666667,\n",
       "         48.76190476,  434.0952381 ,  111.19047619, 1094.0952381 ,\n",
       "         10.95238095,  575.76190476, 1164.61904762, 1560.9047619 ,\n",
       "       1091.19047619,  657.95238095,  757.66666667, 1561.23809524,\n",
       "        815.71428571,    6.23809524,  628.38095238,  871.61904762,\n",
       "        595.61904762,   98.71428571,  668.23809524, 1112.42857143,\n",
       "        296.47619048,  936.85714286, 1042.71428571,  959.61904762,\n",
       "       1132.95238095,  430.76190476,   37.23809524, 1013.76190476,\n",
       "        347.95238095,   40.61904762,  195.23809524, 1240.38095238,\n",
       "        442.71428571,  854.0952381 ,    6.23809524,    5.76190476,\n",
       "        246.47619048,  116.66666667,  199.52380952,   89.52380952,\n",
       "        718.80952381,  530.80952381,  597.52380952,  543.23809524,\n",
       "        265.76190476,   44.61904762,  858.57142857,  175.95238095,\n",
       "       1236.57142857,  362.57142857, 1097.38095238,  300.38095238,\n",
       "        220.76190476, 1653.        ,  847.66666667,    9.        ,\n",
       "        450.76190476,  420.61904762,  367.71428571, 1395.95238095,\n",
       "        290.28571429,  532.38095238,  799.47619048,  149.38095238,\n",
       "       1256.14285714,  191.71428571, 1506.80952381,   22.42857143,\n",
       "        829.76190476,  613.80952381,  364.38095238,   35.14285714,\n",
       "        605.38095238,  777.42857143,    6.23809524,  329.47619048,\n",
       "        329.71428571])"
      ]
     },
     "execution_count": 17,
     "metadata": {},
     "output_type": "execute_result"
    }
   ],
   "source": [
    "y_pred"
   ]
  },
  {
   "cell_type": "code",
   "execution_count": 18,
   "metadata": {},
   "outputs": [
    {
     "data": {
      "text/plain": [
       "array([ 511,  483,  178,  150,   38,  138,   99,   97,    6,   33,   73,\n",
       "        107,   99,   26,  429, 1068,  384,  665,  408,  703,   47, 1248,\n",
       "       1257,  911,    0,  618, 1134,    0,  273,  273,  758,  252,  350,\n",
       "       1042,  274,  338,  715,   29,  115,  770,  499,  159,  495,  270,\n",
       "         27,  401,   75, 1095,   12,  579, 1081, 1560, 1069,  677,  646,\n",
       "       1583,  911,    0,  638,  921,  772,  143,  588, 1007,  280, 1144,\n",
       "       1107, 1068, 1080,  435,   44,  998,  303,   66,  174, 1226,  520,\n",
       "        799,    7,    0,  257,   97,  197,   78,  824,  622,  492,  529,\n",
       "        159,   28,  910,  159, 1249,  339, 1118,  315,  197, 2593,  760,\n",
       "          3,  378,  485,  532, 1264,  286,  558,  784,  170, 1330,  178,\n",
       "       1603,   15,  879,  696,  414,   25,  625,  821,    2,  265,  343],\n",
       "      dtype=int64)"
      ]
     },
     "execution_count": 18,
     "metadata": {},
     "output_type": "execute_result"
    }
   ],
   "source": [
    "y_test"
   ]
  },
  {
   "cell_type": "markdown",
   "metadata": {},
   "source": [
    "## Mean Square Error"
   ]
  },
  {
   "cell_type": "code",
   "execution_count": 19,
   "metadata": {},
   "outputs": [
    {
     "name": "stdout",
     "output_type": "stream",
     "text": [
      "[NBA Data] MSE : 10729.366\n"
     ]
    }
   ],
   "source": [
    "from sklearn.metrics import mean_squared_error\n",
    "print(\"[NBA Data] MSE : {}\".format(round(mean_squared_error(y_test, y_pred), 3)))"
   ]
  },
  {
   "cell_type": "markdown",
   "metadata": {},
   "source": [
    "### Cross Validation"
   ]
  },
  {
   "cell_type": "code",
   "execution_count": 20,
   "metadata": {},
   "outputs": [
    {
     "name": "stderr",
     "output_type": "stream",
     "text": [
      "C:\\Users\\Sreekanth\\Anaconda3\\lib\\site-packages\\sklearn\\metrics\\scorer.py:100: DeprecationWarning: Scoring method mean_squared_error was renamed to neg_mean_squared_error in version 0.18 and will be removed in 0.20.\n",
      "  sample_weight=sample_weight)\n",
      "C:\\Users\\Sreekanth\\Anaconda3\\lib\\site-packages\\sklearn\\metrics\\scorer.py:100: DeprecationWarning: Scoring method mean_squared_error was renamed to neg_mean_squared_error in version 0.18 and will be removed in 0.20.\n",
      "  sample_weight=sample_weight)\n",
      "C:\\Users\\Sreekanth\\Anaconda3\\lib\\site-packages\\sklearn\\metrics\\scorer.py:100: DeprecationWarning: Scoring method mean_squared_error was renamed to neg_mean_squared_error in version 0.18 and will be removed in 0.20.\n",
      "  sample_weight=sample_weight)\n",
      "C:\\Users\\Sreekanth\\Anaconda3\\lib\\site-packages\\sklearn\\metrics\\scorer.py:100: DeprecationWarning: Scoring method mean_squared_error was renamed to neg_mean_squared_error in version 0.18 and will be removed in 0.20.\n",
      "  sample_weight=sample_weight)\n",
      "C:\\Users\\Sreekanth\\Anaconda3\\lib\\site-packages\\sklearn\\metrics\\scorer.py:100: DeprecationWarning: Scoring method mean_squared_error was renamed to neg_mean_squared_error in version 0.18 and will be removed in 0.20.\n",
      "  sample_weight=sample_weight)\n",
      "C:\\Users\\Sreekanth\\Anaconda3\\lib\\site-packages\\sklearn\\metrics\\scorer.py:100: DeprecationWarning: Scoring method mean_squared_error was renamed to neg_mean_squared_error in version 0.18 and will be removed in 0.20.\n",
      "  sample_weight=sample_weight)\n",
      "C:\\Users\\Sreekanth\\Anaconda3\\lib\\site-packages\\sklearn\\metrics\\scorer.py:100: DeprecationWarning: Scoring method mean_squared_error was renamed to neg_mean_squared_error in version 0.18 and will be removed in 0.20.\n",
      "  sample_weight=sample_weight)\n",
      "C:\\Users\\Sreekanth\\Anaconda3\\lib\\site-packages\\sklearn\\metrics\\scorer.py:100: DeprecationWarning: Scoring method mean_squared_error was renamed to neg_mean_squared_error in version 0.18 and will be removed in 0.20.\n",
      "  sample_weight=sample_weight)\n",
      "C:\\Users\\Sreekanth\\Anaconda3\\lib\\site-packages\\sklearn\\metrics\\scorer.py:100: DeprecationWarning: Scoring method mean_squared_error was renamed to neg_mean_squared_error in version 0.18 and will be removed in 0.20.\n",
      "  sample_weight=sample_weight)\n",
      "C:\\Users\\Sreekanth\\Anaconda3\\lib\\site-packages\\sklearn\\metrics\\scorer.py:100: DeprecationWarning: Scoring method mean_squared_error was renamed to neg_mean_squared_error in version 0.18 and will be removed in 0.20.\n",
      "  sample_weight=sample_weight)\n",
      "C:\\Users\\Sreekanth\\Anaconda3\\lib\\site-packages\\sklearn\\metrics\\scorer.py:100: DeprecationWarning: Scoring method mean_squared_error was renamed to neg_mean_squared_error in version 0.18 and will be removed in 0.20.\n",
      "  sample_weight=sample_weight)\n",
      "C:\\Users\\Sreekanth\\Anaconda3\\lib\\site-packages\\sklearn\\metrics\\scorer.py:100: DeprecationWarning: Scoring method mean_squared_error was renamed to neg_mean_squared_error in version 0.18 and will be removed in 0.20.\n",
      "  sample_weight=sample_weight)\n",
      "C:\\Users\\Sreekanth\\Anaconda3\\lib\\site-packages\\sklearn\\metrics\\scorer.py:100: DeprecationWarning: Scoring method mean_squared_error was renamed to neg_mean_squared_error in version 0.18 and will be removed in 0.20.\n",
      "  sample_weight=sample_weight)\n",
      "C:\\Users\\Sreekanth\\Anaconda3\\lib\\site-packages\\sklearn\\metrics\\scorer.py:100: DeprecationWarning: Scoring method mean_squared_error was renamed to neg_mean_squared_error in version 0.18 and will be removed in 0.20.\n",
      "  sample_weight=sample_weight)\n",
      "C:\\Users\\Sreekanth\\Anaconda3\\lib\\site-packages\\sklearn\\metrics\\scorer.py:100: DeprecationWarning: Scoring method mean_squared_error was renamed to neg_mean_squared_error in version 0.18 and will be removed in 0.20.\n",
      "  sample_weight=sample_weight)\n",
      "C:\\Users\\Sreekanth\\Anaconda3\\lib\\site-packages\\sklearn\\metrics\\scorer.py:100: DeprecationWarning: Scoring method mean_squared_error was renamed to neg_mean_squared_error in version 0.18 and will be removed in 0.20.\n",
      "  sample_weight=sample_weight)\n",
      "C:\\Users\\Sreekanth\\Anaconda3\\lib\\site-packages\\sklearn\\metrics\\scorer.py:100: DeprecationWarning: Scoring method mean_squared_error was renamed to neg_mean_squared_error in version 0.18 and will be removed in 0.20.\n",
      "  sample_weight=sample_weight)\n",
      "C:\\Users\\Sreekanth\\Anaconda3\\lib\\site-packages\\sklearn\\metrics\\scorer.py:100: DeprecationWarning: Scoring method mean_squared_error was renamed to neg_mean_squared_error in version 0.18 and will be removed in 0.20.\n",
      "  sample_weight=sample_weight)\n",
      "C:\\Users\\Sreekanth\\Anaconda3\\lib\\site-packages\\sklearn\\metrics\\scorer.py:100: DeprecationWarning: Scoring method mean_squared_error was renamed to neg_mean_squared_error in version 0.18 and will be removed in 0.20.\n",
      "  sample_weight=sample_weight)\n",
      "C:\\Users\\Sreekanth\\Anaconda3\\lib\\site-packages\\sklearn\\metrics\\scorer.py:100: DeprecationWarning: Scoring method mean_squared_error was renamed to neg_mean_squared_error in version 0.18 and will be removed in 0.20.\n",
      "  sample_weight=sample_weight)\n",
      "C:\\Users\\Sreekanth\\Anaconda3\\lib\\site-packages\\sklearn\\metrics\\scorer.py:100: DeprecationWarning: Scoring method mean_squared_error was renamed to neg_mean_squared_error in version 0.18 and will be removed in 0.20.\n",
      "  sample_weight=sample_weight)\n",
      "C:\\Users\\Sreekanth\\Anaconda3\\lib\\site-packages\\sklearn\\metrics\\scorer.py:100: DeprecationWarning: Scoring method mean_squared_error was renamed to neg_mean_squared_error in version 0.18 and will be removed in 0.20.\n",
      "  sample_weight=sample_weight)\n",
      "C:\\Users\\Sreekanth\\Anaconda3\\lib\\site-packages\\sklearn\\metrics\\scorer.py:100: DeprecationWarning: Scoring method mean_squared_error was renamed to neg_mean_squared_error in version 0.18 and will be removed in 0.20.\n",
      "  sample_weight=sample_weight)\n",
      "C:\\Users\\Sreekanth\\Anaconda3\\lib\\site-packages\\sklearn\\metrics\\scorer.py:100: DeprecationWarning: Scoring method mean_squared_error was renamed to neg_mean_squared_error in version 0.18 and will be removed in 0.20.\n",
      "  sample_weight=sample_weight)\n",
      "C:\\Users\\Sreekanth\\Anaconda3\\lib\\site-packages\\sklearn\\metrics\\scorer.py:100: DeprecationWarning: Scoring method mean_squared_error was renamed to neg_mean_squared_error in version 0.18 and will be removed in 0.20.\n",
      "  sample_weight=sample_weight)\n",
      "C:\\Users\\Sreekanth\\Anaconda3\\lib\\site-packages\\sklearn\\metrics\\scorer.py:100: DeprecationWarning: Scoring method mean_squared_error was renamed to neg_mean_squared_error in version 0.18 and will be removed in 0.20.\n",
      "  sample_weight=sample_weight)\n",
      "C:\\Users\\Sreekanth\\Anaconda3\\lib\\site-packages\\sklearn\\metrics\\scorer.py:100: DeprecationWarning: Scoring method mean_squared_error was renamed to neg_mean_squared_error in version 0.18 and will be removed in 0.20.\n",
      "  sample_weight=sample_weight)\n",
      "C:\\Users\\Sreekanth\\Anaconda3\\lib\\site-packages\\sklearn\\metrics\\scorer.py:100: DeprecationWarning: Scoring method mean_squared_error was renamed to neg_mean_squared_error in version 0.18 and will be removed in 0.20.\n",
      "  sample_weight=sample_weight)\n",
      "C:\\Users\\Sreekanth\\Anaconda3\\lib\\site-packages\\sklearn\\metrics\\scorer.py:100: DeprecationWarning: Scoring method mean_squared_error was renamed to neg_mean_squared_error in version 0.18 and will be removed in 0.20.\n",
      "  sample_weight=sample_weight)\n",
      "C:\\Users\\Sreekanth\\Anaconda3\\lib\\site-packages\\sklearn\\metrics\\scorer.py:100: DeprecationWarning: Scoring method mean_squared_error was renamed to neg_mean_squared_error in version 0.18 and will be removed in 0.20.\n",
      "  sample_weight=sample_weight)\n",
      "C:\\Users\\Sreekanth\\Anaconda3\\lib\\site-packages\\sklearn\\metrics\\scorer.py:100: DeprecationWarning: Scoring method mean_squared_error was renamed to neg_mean_squared_error in version 0.18 and will be removed in 0.20.\n",
      "  sample_weight=sample_weight)\n",
      "C:\\Users\\Sreekanth\\Anaconda3\\lib\\site-packages\\sklearn\\metrics\\scorer.py:100: DeprecationWarning: Scoring method mean_squared_error was renamed to neg_mean_squared_error in version 0.18 and will be removed in 0.20.\n",
      "  sample_weight=sample_weight)\n",
      "C:\\Users\\Sreekanth\\Anaconda3\\lib\\site-packages\\sklearn\\metrics\\scorer.py:100: DeprecationWarning: Scoring method mean_squared_error was renamed to neg_mean_squared_error in version 0.18 and will be removed in 0.20.\n",
      "  sample_weight=sample_weight)\n",
      "C:\\Users\\Sreekanth\\Anaconda3\\lib\\site-packages\\sklearn\\metrics\\scorer.py:100: DeprecationWarning: Scoring method mean_squared_error was renamed to neg_mean_squared_error in version 0.18 and will be removed in 0.20.\n",
      "  sample_weight=sample_weight)\n",
      "C:\\Users\\Sreekanth\\Anaconda3\\lib\\site-packages\\sklearn\\metrics\\scorer.py:100: DeprecationWarning: Scoring method mean_squared_error was renamed to neg_mean_squared_error in version 0.18 and will be removed in 0.20.\n",
      "  sample_weight=sample_weight)\n",
      "C:\\Users\\Sreekanth\\Anaconda3\\lib\\site-packages\\sklearn\\metrics\\scorer.py:100: DeprecationWarning: Scoring method mean_squared_error was renamed to neg_mean_squared_error in version 0.18 and will be removed in 0.20.\n",
      "  sample_weight=sample_weight)\n",
      "C:\\Users\\Sreekanth\\Anaconda3\\lib\\site-packages\\sklearn\\metrics\\scorer.py:100: DeprecationWarning: Scoring method mean_squared_error was renamed to neg_mean_squared_error in version 0.18 and will be removed in 0.20.\n",
      "  sample_weight=sample_weight)\n",
      "C:\\Users\\Sreekanth\\Anaconda3\\lib\\site-packages\\sklearn\\metrics\\scorer.py:100: DeprecationWarning: Scoring method mean_squared_error was renamed to neg_mean_squared_error in version 0.18 and will be removed in 0.20.\n",
      "  sample_weight=sample_weight)\n",
      "C:\\Users\\Sreekanth\\Anaconda3\\lib\\site-packages\\sklearn\\metrics\\scorer.py:100: DeprecationWarning: Scoring method mean_squared_error was renamed to neg_mean_squared_error in version 0.18 and will be removed in 0.20.\n",
      "  sample_weight=sample_weight)\n",
      "C:\\Users\\Sreekanth\\Anaconda3\\lib\\site-packages\\sklearn\\metrics\\scorer.py:100: DeprecationWarning: Scoring method mean_squared_error was renamed to neg_mean_squared_error in version 0.18 and will be removed in 0.20.\n",
      "  sample_weight=sample_weight)\n",
      "C:\\Users\\Sreekanth\\Anaconda3\\lib\\site-packages\\sklearn\\metrics\\scorer.py:100: DeprecationWarning: Scoring method mean_squared_error was renamed to neg_mean_squared_error in version 0.18 and will be removed in 0.20.\n",
      "  sample_weight=sample_weight)\n",
      "C:\\Users\\Sreekanth\\Anaconda3\\lib\\site-packages\\sklearn\\metrics\\scorer.py:100: DeprecationWarning: Scoring method mean_squared_error was renamed to neg_mean_squared_error in version 0.18 and will be removed in 0.20.\n",
      "  sample_weight=sample_weight)\n"
     ]
    },
    {
     "name": "stderr",
     "output_type": "stream",
     "text": [
      "C:\\Users\\Sreekanth\\Anaconda3\\lib\\site-packages\\sklearn\\metrics\\scorer.py:100: DeprecationWarning: Scoring method mean_squared_error was renamed to neg_mean_squared_error in version 0.18 and will be removed in 0.20.\n",
      "  sample_weight=sample_weight)\n",
      "C:\\Users\\Sreekanth\\Anaconda3\\lib\\site-packages\\sklearn\\metrics\\scorer.py:100: DeprecationWarning: Scoring method mean_squared_error was renamed to neg_mean_squared_error in version 0.18 and will be removed in 0.20.\n",
      "  sample_weight=sample_weight)\n",
      "C:\\Users\\Sreekanth\\Anaconda3\\lib\\site-packages\\sklearn\\metrics\\scorer.py:100: DeprecationWarning: Scoring method mean_squared_error was renamed to neg_mean_squared_error in version 0.18 and will be removed in 0.20.\n",
      "  sample_weight=sample_weight)\n",
      "C:\\Users\\Sreekanth\\Anaconda3\\lib\\site-packages\\sklearn\\metrics\\scorer.py:100: DeprecationWarning: Scoring method mean_squared_error was renamed to neg_mean_squared_error in version 0.18 and will be removed in 0.20.\n",
      "  sample_weight=sample_weight)\n",
      "C:\\Users\\Sreekanth\\Anaconda3\\lib\\site-packages\\sklearn\\metrics\\scorer.py:100: DeprecationWarning: Scoring method mean_squared_error was renamed to neg_mean_squared_error in version 0.18 and will be removed in 0.20.\n",
      "  sample_weight=sample_weight)\n",
      "C:\\Users\\Sreekanth\\Anaconda3\\lib\\site-packages\\sklearn\\metrics\\scorer.py:100: DeprecationWarning: Scoring method mean_squared_error was renamed to neg_mean_squared_error in version 0.18 and will be removed in 0.20.\n",
      "  sample_weight=sample_weight)\n",
      "C:\\Users\\Sreekanth\\Anaconda3\\lib\\site-packages\\sklearn\\metrics\\scorer.py:100: DeprecationWarning: Scoring method mean_squared_error was renamed to neg_mean_squared_error in version 0.18 and will be removed in 0.20.\n",
      "  sample_weight=sample_weight)\n",
      "C:\\Users\\Sreekanth\\Anaconda3\\lib\\site-packages\\sklearn\\metrics\\scorer.py:100: DeprecationWarning: Scoring method mean_squared_error was renamed to neg_mean_squared_error in version 0.18 and will be removed in 0.20.\n",
      "  sample_weight=sample_weight)\n",
      "C:\\Users\\Sreekanth\\Anaconda3\\lib\\site-packages\\sklearn\\metrics\\scorer.py:100: DeprecationWarning: Scoring method mean_squared_error was renamed to neg_mean_squared_error in version 0.18 and will be removed in 0.20.\n",
      "  sample_weight=sample_weight)\n",
      "C:\\Users\\Sreekanth\\Anaconda3\\lib\\site-packages\\sklearn\\metrics\\scorer.py:100: DeprecationWarning: Scoring method mean_squared_error was renamed to neg_mean_squared_error in version 0.18 and will be removed in 0.20.\n",
      "  sample_weight=sample_weight)\n",
      "C:\\Users\\Sreekanth\\Anaconda3\\lib\\site-packages\\sklearn\\metrics\\scorer.py:100: DeprecationWarning: Scoring method mean_squared_error was renamed to neg_mean_squared_error in version 0.18 and will be removed in 0.20.\n",
      "  sample_weight=sample_weight)\n",
      "C:\\Users\\Sreekanth\\Anaconda3\\lib\\site-packages\\sklearn\\metrics\\scorer.py:100: DeprecationWarning: Scoring method mean_squared_error was renamed to neg_mean_squared_error in version 0.18 and will be removed in 0.20.\n",
      "  sample_weight=sample_weight)\n",
      "C:\\Users\\Sreekanth\\Anaconda3\\lib\\site-packages\\sklearn\\metrics\\scorer.py:100: DeprecationWarning: Scoring method mean_squared_error was renamed to neg_mean_squared_error in version 0.18 and will be removed in 0.20.\n",
      "  sample_weight=sample_weight)\n",
      "C:\\Users\\Sreekanth\\Anaconda3\\lib\\site-packages\\sklearn\\metrics\\scorer.py:100: DeprecationWarning: Scoring method mean_squared_error was renamed to neg_mean_squared_error in version 0.18 and will be removed in 0.20.\n",
      "  sample_weight=sample_weight)\n",
      "C:\\Users\\Sreekanth\\Anaconda3\\lib\\site-packages\\sklearn\\metrics\\scorer.py:100: DeprecationWarning: Scoring method mean_squared_error was renamed to neg_mean_squared_error in version 0.18 and will be removed in 0.20.\n",
      "  sample_weight=sample_weight)\n",
      "C:\\Users\\Sreekanth\\Anaconda3\\lib\\site-packages\\sklearn\\metrics\\scorer.py:100: DeprecationWarning: Scoring method mean_squared_error was renamed to neg_mean_squared_error in version 0.18 and will be removed in 0.20.\n",
      "  sample_weight=sample_weight)\n",
      "C:\\Users\\Sreekanth\\Anaconda3\\lib\\site-packages\\sklearn\\metrics\\scorer.py:100: DeprecationWarning: Scoring method mean_squared_error was renamed to neg_mean_squared_error in version 0.18 and will be removed in 0.20.\n",
      "  sample_weight=sample_weight)\n",
      "C:\\Users\\Sreekanth\\Anaconda3\\lib\\site-packages\\sklearn\\metrics\\scorer.py:100: DeprecationWarning: Scoring method mean_squared_error was renamed to neg_mean_squared_error in version 0.18 and will be removed in 0.20.\n",
      "  sample_weight=sample_weight)\n",
      "C:\\Users\\Sreekanth\\Anaconda3\\lib\\site-packages\\sklearn\\metrics\\scorer.py:100: DeprecationWarning: Scoring method mean_squared_error was renamed to neg_mean_squared_error in version 0.18 and will be removed in 0.20.\n",
      "  sample_weight=sample_weight)\n",
      "C:\\Users\\Sreekanth\\Anaconda3\\lib\\site-packages\\sklearn\\metrics\\scorer.py:100: DeprecationWarning: Scoring method mean_squared_error was renamed to neg_mean_squared_error in version 0.18 and will be removed in 0.20.\n",
      "  sample_weight=sample_weight)\n",
      "C:\\Users\\Sreekanth\\Anaconda3\\lib\\site-packages\\sklearn\\metrics\\scorer.py:100: DeprecationWarning: Scoring method mean_squared_error was renamed to neg_mean_squared_error in version 0.18 and will be removed in 0.20.\n",
      "  sample_weight=sample_weight)\n",
      "C:\\Users\\Sreekanth\\Anaconda3\\lib\\site-packages\\sklearn\\metrics\\scorer.py:100: DeprecationWarning: Scoring method mean_squared_error was renamed to neg_mean_squared_error in version 0.18 and will be removed in 0.20.\n",
      "  sample_weight=sample_weight)\n",
      "C:\\Users\\Sreekanth\\Anaconda3\\lib\\site-packages\\sklearn\\metrics\\scorer.py:100: DeprecationWarning: Scoring method mean_squared_error was renamed to neg_mean_squared_error in version 0.18 and will be removed in 0.20.\n",
      "  sample_weight=sample_weight)\n",
      "C:\\Users\\Sreekanth\\Anaconda3\\lib\\site-packages\\sklearn\\metrics\\scorer.py:100: DeprecationWarning: Scoring method mean_squared_error was renamed to neg_mean_squared_error in version 0.18 and will be removed in 0.20.\n",
      "  sample_weight=sample_weight)\n",
      "C:\\Users\\Sreekanth\\Anaconda3\\lib\\site-packages\\sklearn\\metrics\\scorer.py:100: DeprecationWarning: Scoring method mean_squared_error was renamed to neg_mean_squared_error in version 0.18 and will be removed in 0.20.\n",
      "  sample_weight=sample_weight)\n",
      "C:\\Users\\Sreekanth\\Anaconda3\\lib\\site-packages\\sklearn\\metrics\\scorer.py:100: DeprecationWarning: Scoring method mean_squared_error was renamed to neg_mean_squared_error in version 0.18 and will be removed in 0.20.\n",
      "  sample_weight=sample_weight)\n",
      "C:\\Users\\Sreekanth\\Anaconda3\\lib\\site-packages\\sklearn\\metrics\\scorer.py:100: DeprecationWarning: Scoring method mean_squared_error was renamed to neg_mean_squared_error in version 0.18 and will be removed in 0.20.\n",
      "  sample_weight=sample_weight)\n",
      "C:\\Users\\Sreekanth\\Anaconda3\\lib\\site-packages\\sklearn\\metrics\\scorer.py:100: DeprecationWarning: Scoring method mean_squared_error was renamed to neg_mean_squared_error in version 0.18 and will be removed in 0.20.\n",
      "  sample_weight=sample_weight)\n",
      "C:\\Users\\Sreekanth\\Anaconda3\\lib\\site-packages\\sklearn\\metrics\\scorer.py:100: DeprecationWarning: Scoring method mean_squared_error was renamed to neg_mean_squared_error in version 0.18 and will be removed in 0.20.\n",
      "  sample_weight=sample_weight)\n",
      "C:\\Users\\Sreekanth\\Anaconda3\\lib\\site-packages\\sklearn\\metrics\\scorer.py:100: DeprecationWarning: Scoring method mean_squared_error was renamed to neg_mean_squared_error in version 0.18 and will be removed in 0.20.\n",
      "  sample_weight=sample_weight)\n",
      "C:\\Users\\Sreekanth\\Anaconda3\\lib\\site-packages\\sklearn\\metrics\\scorer.py:100: DeprecationWarning: Scoring method mean_squared_error was renamed to neg_mean_squared_error in version 0.18 and will be removed in 0.20.\n",
      "  sample_weight=sample_weight)\n",
      "C:\\Users\\Sreekanth\\Anaconda3\\lib\\site-packages\\sklearn\\metrics\\scorer.py:100: DeprecationWarning: Scoring method mean_squared_error was renamed to neg_mean_squared_error in version 0.18 and will be removed in 0.20.\n",
      "  sample_weight=sample_weight)\n",
      "C:\\Users\\Sreekanth\\Anaconda3\\lib\\site-packages\\sklearn\\metrics\\scorer.py:100: DeprecationWarning: Scoring method mean_squared_error was renamed to neg_mean_squared_error in version 0.18 and will be removed in 0.20.\n",
      "  sample_weight=sample_weight)\n",
      "C:\\Users\\Sreekanth\\Anaconda3\\lib\\site-packages\\sklearn\\metrics\\scorer.py:100: DeprecationWarning: Scoring method mean_squared_error was renamed to neg_mean_squared_error in version 0.18 and will be removed in 0.20.\n",
      "  sample_weight=sample_weight)\n",
      "C:\\Users\\Sreekanth\\Anaconda3\\lib\\site-packages\\sklearn\\metrics\\scorer.py:100: DeprecationWarning: Scoring method mean_squared_error was renamed to neg_mean_squared_error in version 0.18 and will be removed in 0.20.\n",
      "  sample_weight=sample_weight)\n",
      "C:\\Users\\Sreekanth\\Anaconda3\\lib\\site-packages\\sklearn\\metrics\\scorer.py:100: DeprecationWarning: Scoring method mean_squared_error was renamed to neg_mean_squared_error in version 0.18 and will be removed in 0.20.\n",
      "  sample_weight=sample_weight)\n",
      "C:\\Users\\Sreekanth\\Anaconda3\\lib\\site-packages\\sklearn\\metrics\\scorer.py:100: DeprecationWarning: Scoring method mean_squared_error was renamed to neg_mean_squared_error in version 0.18 and will be removed in 0.20.\n",
      "  sample_weight=sample_weight)\n",
      "C:\\Users\\Sreekanth\\Anaconda3\\lib\\site-packages\\sklearn\\metrics\\scorer.py:100: DeprecationWarning: Scoring method mean_squared_error was renamed to neg_mean_squared_error in version 0.18 and will be removed in 0.20.\n",
      "  sample_weight=sample_weight)\n",
      "C:\\Users\\Sreekanth\\Anaconda3\\lib\\site-packages\\sklearn\\metrics\\scorer.py:100: DeprecationWarning: Scoring method mean_squared_error was renamed to neg_mean_squared_error in version 0.18 and will be removed in 0.20.\n",
      "  sample_weight=sample_weight)\n",
      "C:\\Users\\Sreekanth\\Anaconda3\\lib\\site-packages\\sklearn\\metrics\\scorer.py:100: DeprecationWarning: Scoring method mean_squared_error was renamed to neg_mean_squared_error in version 0.18 and will be removed in 0.20.\n",
      "  sample_weight=sample_weight)\n",
      "C:\\Users\\Sreekanth\\Anaconda3\\lib\\site-packages\\sklearn\\metrics\\scorer.py:100: DeprecationWarning: Scoring method mean_squared_error was renamed to neg_mean_squared_error in version 0.18 and will be removed in 0.20.\n",
      "  sample_weight=sample_weight)\n",
      "C:\\Users\\Sreekanth\\Anaconda3\\lib\\site-packages\\sklearn\\metrics\\scorer.py:100: DeprecationWarning: Scoring method mean_squared_error was renamed to neg_mean_squared_error in version 0.18 and will be removed in 0.20.\n",
      "  sample_weight=sample_weight)\n",
      "C:\\Users\\Sreekanth\\Anaconda3\\lib\\site-packages\\sklearn\\metrics\\scorer.py:100: DeprecationWarning: Scoring method mean_squared_error was renamed to neg_mean_squared_error in version 0.18 and will be removed in 0.20.\n",
      "  sample_weight=sample_weight)\n",
      "C:\\Users\\Sreekanth\\Anaconda3\\lib\\site-packages\\sklearn\\metrics\\scorer.py:100: DeprecationWarning: Scoring method mean_squared_error was renamed to neg_mean_squared_error in version 0.18 and will be removed in 0.20.\n",
      "  sample_weight=sample_weight)\n",
      "C:\\Users\\Sreekanth\\Anaconda3\\lib\\site-packages\\sklearn\\metrics\\scorer.py:100: DeprecationWarning: Scoring method mean_squared_error was renamed to neg_mean_squared_error in version 0.18 and will be removed in 0.20.\n",
      "  sample_weight=sample_weight)\n",
      "C:\\Users\\Sreekanth\\Anaconda3\\lib\\site-packages\\sklearn\\metrics\\scorer.py:100: DeprecationWarning: Scoring method mean_squared_error was renamed to neg_mean_squared_error in version 0.18 and will be removed in 0.20.\n",
      "  sample_weight=sample_weight)\n",
      "C:\\Users\\Sreekanth\\Anaconda3\\lib\\site-packages\\sklearn\\metrics\\scorer.py:100: DeprecationWarning: Scoring method mean_squared_error was renamed to neg_mean_squared_error in version 0.18 and will be removed in 0.20.\n",
      "  sample_weight=sample_weight)\n",
      "C:\\Users\\Sreekanth\\Anaconda3\\lib\\site-packages\\sklearn\\metrics\\scorer.py:100: DeprecationWarning: Scoring method mean_squared_error was renamed to neg_mean_squared_error in version 0.18 and will be removed in 0.20.\n",
      "  sample_weight=sample_weight)\n",
      "C:\\Users\\Sreekanth\\Anaconda3\\lib\\site-packages\\sklearn\\metrics\\scorer.py:100: DeprecationWarning: Scoring method mean_squared_error was renamed to neg_mean_squared_error in version 0.18 and will be removed in 0.20.\n",
      "  sample_weight=sample_weight)\n"
     ]
    },
    {
     "name": "stderr",
     "output_type": "stream",
     "text": [
      "C:\\Users\\Sreekanth\\Anaconda3\\lib\\site-packages\\sklearn\\metrics\\scorer.py:100: DeprecationWarning: Scoring method mean_squared_error was renamed to neg_mean_squared_error in version 0.18 and will be removed in 0.20.\n",
      "  sample_weight=sample_weight)\n",
      "C:\\Users\\Sreekanth\\Anaconda3\\lib\\site-packages\\sklearn\\metrics\\scorer.py:100: DeprecationWarning: Scoring method mean_squared_error was renamed to neg_mean_squared_error in version 0.18 and will be removed in 0.20.\n",
      "  sample_weight=sample_weight)\n",
      "C:\\Users\\Sreekanth\\Anaconda3\\lib\\site-packages\\sklearn\\metrics\\scorer.py:100: DeprecationWarning: Scoring method mean_squared_error was renamed to neg_mean_squared_error in version 0.18 and will be removed in 0.20.\n",
      "  sample_weight=sample_weight)\n",
      "C:\\Users\\Sreekanth\\Anaconda3\\lib\\site-packages\\sklearn\\metrics\\scorer.py:100: DeprecationWarning: Scoring method mean_squared_error was renamed to neg_mean_squared_error in version 0.18 and will be removed in 0.20.\n",
      "  sample_weight=sample_weight)\n",
      "C:\\Users\\Sreekanth\\Anaconda3\\lib\\site-packages\\sklearn\\metrics\\scorer.py:100: DeprecationWarning: Scoring method mean_squared_error was renamed to neg_mean_squared_error in version 0.18 and will be removed in 0.20.\n",
      "  sample_weight=sample_weight)\n",
      "C:\\Users\\Sreekanth\\Anaconda3\\lib\\site-packages\\sklearn\\metrics\\scorer.py:100: DeprecationWarning: Scoring method mean_squared_error was renamed to neg_mean_squared_error in version 0.18 and will be removed in 0.20.\n",
      "  sample_weight=sample_weight)\n",
      "C:\\Users\\Sreekanth\\Anaconda3\\lib\\site-packages\\sklearn\\metrics\\scorer.py:100: DeprecationWarning: Scoring method mean_squared_error was renamed to neg_mean_squared_error in version 0.18 and will be removed in 0.20.\n",
      "  sample_weight=sample_weight)\n",
      "C:\\Users\\Sreekanth\\Anaconda3\\lib\\site-packages\\sklearn\\metrics\\scorer.py:100: DeprecationWarning: Scoring method mean_squared_error was renamed to neg_mean_squared_error in version 0.18 and will be removed in 0.20.\n",
      "  sample_weight=sample_weight)\n",
      "C:\\Users\\Sreekanth\\Anaconda3\\lib\\site-packages\\sklearn\\metrics\\scorer.py:100: DeprecationWarning: Scoring method mean_squared_error was renamed to neg_mean_squared_error in version 0.18 and will be removed in 0.20.\n",
      "  sample_weight=sample_weight)\n"
     ]
    }
   ],
   "source": [
    "scores = cross_val_score(knn, X, y, scoring='mean_squared_error', cv = 100,)"
   ]
  },
  {
   "cell_type": "code",
   "execution_count": 21,
   "metadata": {},
   "outputs": [
    {
     "name": "stdout",
     "output_type": "stream",
     "text": [
      "-8478.98734807256\n"
     ]
    }
   ],
   "source": [
    "print(scores.mean())"
   ]
  },
  {
   "cell_type": "markdown",
   "metadata": {},
   "source": [
    "# Scatter plot"
   ]
  },
  {
   "cell_type": "code",
   "execution_count": 22,
   "metadata": {},
   "outputs": [
    {
     "data": {
      "image/png": "[encoded data removed]",
      "text/plain": [
       "<Figure size 432x288 with 1 Axes>"
      ]
     },
     "metadata": {
      "needs_background": "light"
     },
     "output_type": "display_data"
    }
   ],
   "source": [
    "plt.scatter(y_pred, y_test, alpha = 0.9)\n",
    "plt.show()"
   ]
  }
 ],
 "metadata": {
  "kernelspec": {
   "display_name": "Python 3",
   "language": "python",
   "name": "python3"
  },
  "language_info": {
   "codemirror_mode": {
    "name": "ipython",
    "version": 3
   },
   "file_extension": ".py",
   "mimetype": "text/x-python",
   "name": "python",
   "nbconvert_exporter": "python",
   "pygments_lexer": "ipython3",
   "version": "3.5.6"
  }
 },
 "nbformat": 4,
 "nbformat_minor": 2
}
